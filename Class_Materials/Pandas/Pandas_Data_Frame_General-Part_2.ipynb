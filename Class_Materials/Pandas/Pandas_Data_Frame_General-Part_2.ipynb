{
 "cells": [
  {
   "cell_type": "markdown",
   "id": "370cb6bc",
   "metadata": {},
   "source": [
    "## Pandas Data Frames"
   ]
  },
  {
   "cell_type": "markdown",
   "id": "3bde899d",
   "metadata": {},
   "source": [
    "- Applying functions, working with Numpy functions\n",
    "- Concatenating & Merging\n",
    "- Dealing with Missing values\n",
    "- Dummy Variables\n",
    "- I/O operations"
   ]
  },
  {
   "cell_type": "code",
   "execution_count": 1,
   "id": "5a990cc2",
   "metadata": {
    "slideshow": {
     "slide_type": "slide"
    },
    "tags": []
   },
   "outputs": [],
   "source": [
    "%matplotlib inline\n",
    "import numpy as np\n",
    "import pandas as pd\n",
    "from IPython.display import Image\n",
    "from IPython.display import HTML\n",
    "from IPython.display import Markdown, display\n",
    "def printmd(string):\n",
    "    display(Markdown(string))\n"
   ]
  },
  {
   "cell_type": "code",
   "execution_count": 2,
   "id": "13f53749",
   "metadata": {
    "tags": []
   },
   "outputs": [
    {
     "data": {
      "text/html": [
       "<style>\n",
       ".output {\n",
       "    align-items: center;\n",
       "}\n",
       "div.output_area {\n",
       "    width: 80%;\n",
       "}\n",
       "</style>"
      ],
      "text/plain": [
       "<IPython.core.display.HTML object>"
      ]
     },
     "execution_count": 2,
     "metadata": {},
     "output_type": "execute_result"
    }
   ],
   "source": [
    "from IPython.display import display, HTML\n",
    "\n",
    "CSS = \"\"\"\n",
    ".output {\n",
    "    align-items: center;\n",
    "}\n",
    "div.output_area {\n",
    "    width: 80%;\n",
    "}\n",
    "\"\"\"\n",
    "HTML('<style>{}</style>'.format(CSS))"
   ]
  },
  {
   "cell_type": "code",
   "execution_count": 3,
   "id": "6259ce62",
   "metadata": {},
   "outputs": [
    {
     "data": {
      "text/html": [
       "<div>\n",
       "<style scoped>\n",
       "    .dataframe tbody tr th:only-of-type {\n",
       "        vertical-align: middle;\n",
       "    }\n",
       "\n",
       "    .dataframe tbody tr th {\n",
       "        vertical-align: top;\n",
       "    }\n",
       "\n",
       "    .dataframe thead th {\n",
       "        text-align: right;\n",
       "    }\n",
       "</style>\n",
       "<table border=\"1\" class=\"dataframe\">\n",
       "  <thead>\n",
       "    <tr style=\"text-align: right;\">\n",
       "      <th></th>\n",
       "      <th>name</th>\n",
       "      <th>city</th>\n",
       "      <th>age</th>\n",
       "      <th>py-score</th>\n",
       "      <th>js-score</th>\n",
       "    </tr>\n",
       "  </thead>\n",
       "  <tbody>\n",
       "    <tr>\n",
       "      <th>0</th>\n",
       "      <td>Xavier</td>\n",
       "      <td>Mexico City</td>\n",
       "      <td>41</td>\n",
       "      <td>88.0</td>\n",
       "      <td>71.0</td>\n",
       "    </tr>\n",
       "    <tr>\n",
       "      <th>1</th>\n",
       "      <td>Ann</td>\n",
       "      <td>Toronto</td>\n",
       "      <td>28</td>\n",
       "      <td>79.0</td>\n",
       "      <td>95.0</td>\n",
       "    </tr>\n",
       "    <tr>\n",
       "      <th>2</th>\n",
       "      <td>Jana</td>\n",
       "      <td>Prague</td>\n",
       "      <td>33</td>\n",
       "      <td>81.0</td>\n",
       "      <td>88.0</td>\n",
       "    </tr>\n",
       "    <tr>\n",
       "      <th>3</th>\n",
       "      <td>Yi</td>\n",
       "      <td>Shanghai</td>\n",
       "      <td>34</td>\n",
       "      <td>80.0</td>\n",
       "      <td>79.0</td>\n",
       "    </tr>\n",
       "    <tr>\n",
       "      <th>4</th>\n",
       "      <td>Robin</td>\n",
       "      <td>Manchester</td>\n",
       "      <td>38</td>\n",
       "      <td>68.0</td>\n",
       "      <td>91.0</td>\n",
       "    </tr>\n",
       "    <tr>\n",
       "      <th>5</th>\n",
       "      <td>Amal</td>\n",
       "      <td>Cairo</td>\n",
       "      <td>31</td>\n",
       "      <td>61.0</td>\n",
       "      <td>91.0</td>\n",
       "    </tr>\n",
       "    <tr>\n",
       "      <th>6</th>\n",
       "      <td>Nori</td>\n",
       "      <td>Osaka</td>\n",
       "      <td>37</td>\n",
       "      <td>84.0</td>\n",
       "      <td>80.0</td>\n",
       "    </tr>\n",
       "  </tbody>\n",
       "</table>\n",
       "</div>"
      ],
      "text/plain": [
       "     name         city  age  py-score  js-score\n",
       "0  Xavier  Mexico City   41      88.0      71.0\n",
       "1     Ann      Toronto   28      79.0      95.0\n",
       "2    Jana       Prague   33      81.0      88.0\n",
       "3      Yi     Shanghai   34      80.0      79.0\n",
       "4   Robin   Manchester   38      68.0      91.0\n",
       "5    Amal        Cairo   31      61.0      91.0\n",
       "6    Nori        Osaka   37      84.0      80.0"
      ]
     },
     "execution_count": 3,
     "metadata": {},
     "output_type": "execute_result"
    }
   ],
   "source": [
    "data = {\n",
    "    'name': ['Xavier', 'Ann', 'Jana', 'Yi', 'Robin', 'Amal', 'Nori'],\n",
    "    'city': ['Mexico City', 'Toronto', 'Prague', 'Shanghai',\n",
    "             'Manchester', 'Cairo', 'Osaka'],\n",
    "    'age': [41, 28, 33, 34, 38, 31, 37],\n",
    "    'py-score': [88.0, 79.0, 81.0, 80.0, 68.0, 61.0, 84.0],\n",
    "    'js-score': [71.0, 95.0, 88.0, 79.0, 91.0, 91.0, 80.0]\n",
    "\n",
    "}\n",
    "\n",
    "students_df = pd.DataFrame(data=data)\n",
    "students_df"
   ]
  },
  {
   "cell_type": "markdown",
   "id": "a34f7251",
   "metadata": {},
   "source": [
    "### Applying functions"
   ]
  },
  {
   "cell_type": "markdown",
   "id": "619fe012",
   "metadata": {},
   "source": [
    "### Applying Arithmetic functions"
   ]
  },
  {
   "cell_type": "code",
   "execution_count": 4,
   "id": "2befdd75",
   "metadata": {},
   "outputs": [
    {
     "data": {
      "text/html": [
       "<div>\n",
       "<style scoped>\n",
       "    .dataframe tbody tr th:only-of-type {\n",
       "        vertical-align: middle;\n",
       "    }\n",
       "\n",
       "    .dataframe tbody tr th {\n",
       "        vertical-align: top;\n",
       "    }\n",
       "\n",
       "    .dataframe thead th {\n",
       "        text-align: right;\n",
       "    }\n",
       "</style>\n",
       "<table border=\"1\" class=\"dataframe\">\n",
       "  <thead>\n",
       "    <tr style=\"text-align: right;\">\n",
       "      <th></th>\n",
       "      <th>name</th>\n",
       "      <th>city</th>\n",
       "      <th>age</th>\n",
       "      <th>py-score</th>\n",
       "      <th>js-score</th>\n",
       "    </tr>\n",
       "  </thead>\n",
       "  <tbody>\n",
       "    <tr>\n",
       "      <th>0</th>\n",
       "      <td>Xavier</td>\n",
       "      <td>Mexico City</td>\n",
       "      <td>41</td>\n",
       "      <td>88.0</td>\n",
       "      <td>71.0</td>\n",
       "    </tr>\n",
       "    <tr>\n",
       "      <th>1</th>\n",
       "      <td>Ann</td>\n",
       "      <td>Toronto</td>\n",
       "      <td>28</td>\n",
       "      <td>79.0</td>\n",
       "      <td>95.0</td>\n",
       "    </tr>\n",
       "    <tr>\n",
       "      <th>2</th>\n",
       "      <td>Jana</td>\n",
       "      <td>Prague</td>\n",
       "      <td>33</td>\n",
       "      <td>81.0</td>\n",
       "      <td>88.0</td>\n",
       "    </tr>\n",
       "    <tr>\n",
       "      <th>3</th>\n",
       "      <td>Yi</td>\n",
       "      <td>Shanghai</td>\n",
       "      <td>34</td>\n",
       "      <td>80.0</td>\n",
       "      <td>79.0</td>\n",
       "    </tr>\n",
       "    <tr>\n",
       "      <th>4</th>\n",
       "      <td>Robin</td>\n",
       "      <td>Manchester</td>\n",
       "      <td>38</td>\n",
       "      <td>68.0</td>\n",
       "      <td>91.0</td>\n",
       "    </tr>\n",
       "    <tr>\n",
       "      <th>5</th>\n",
       "      <td>Amal</td>\n",
       "      <td>Cairo</td>\n",
       "      <td>31</td>\n",
       "      <td>61.0</td>\n",
       "      <td>91.0</td>\n",
       "    </tr>\n",
       "    <tr>\n",
       "      <th>6</th>\n",
       "      <td>Nori</td>\n",
       "      <td>Osaka</td>\n",
       "      <td>37</td>\n",
       "      <td>84.0</td>\n",
       "      <td>80.0</td>\n",
       "    </tr>\n",
       "  </tbody>\n",
       "</table>\n",
       "</div>"
      ],
      "text/plain": [
       "     name         city  age  py-score  js-score\n",
       "0  Xavier  Mexico City   41      88.0      71.0\n",
       "1     Ann      Toronto   28      79.0      95.0\n",
       "2    Jana       Prague   33      81.0      88.0\n",
       "3      Yi     Shanghai   34      80.0      79.0\n",
       "4   Robin   Manchester   38      68.0      91.0\n",
       "5    Amal        Cairo   31      61.0      91.0\n",
       "6    Nori        Osaka   37      84.0      80.0"
      ]
     },
     "execution_count": 4,
     "metadata": {},
     "output_type": "execute_result"
    }
   ],
   "source": [
    "students_df"
   ]
  },
  {
   "cell_type": "code",
   "execution_count": 5,
   "id": "1e6581f2",
   "metadata": {},
   "outputs": [
    {
     "data": {
      "text/html": [
       "<div>\n",
       "<style scoped>\n",
       "    .dataframe tbody tr th:only-of-type {\n",
       "        vertical-align: middle;\n",
       "    }\n",
       "\n",
       "    .dataframe tbody tr th {\n",
       "        vertical-align: top;\n",
       "    }\n",
       "\n",
       "    .dataframe thead th {\n",
       "        text-align: right;\n",
       "    }\n",
       "</style>\n",
       "<table border=\"1\" class=\"dataframe\">\n",
       "  <thead>\n",
       "    <tr style=\"text-align: right;\">\n",
       "      <th></th>\n",
       "      <th>name</th>\n",
       "      <th>city</th>\n",
       "      <th>age</th>\n",
       "      <th>py-score</th>\n",
       "      <th>js-score</th>\n",
       "      <th>total</th>\n",
       "    </tr>\n",
       "  </thead>\n",
       "  <tbody>\n",
       "    <tr>\n",
       "      <th>0</th>\n",
       "      <td>Xavier</td>\n",
       "      <td>Mexico City</td>\n",
       "      <td>41</td>\n",
       "      <td>88.0</td>\n",
       "      <td>71.0</td>\n",
       "      <td>80.714286</td>\n",
       "    </tr>\n",
       "    <tr>\n",
       "      <th>1</th>\n",
       "      <td>Ann</td>\n",
       "      <td>Toronto</td>\n",
       "      <td>28</td>\n",
       "      <td>79.0</td>\n",
       "      <td>95.0</td>\n",
       "      <td>85.857143</td>\n",
       "    </tr>\n",
       "    <tr>\n",
       "      <th>2</th>\n",
       "      <td>Jana</td>\n",
       "      <td>Prague</td>\n",
       "      <td>33</td>\n",
       "      <td>81.0</td>\n",
       "      <td>88.0</td>\n",
       "      <td>84.000000</td>\n",
       "    </tr>\n",
       "    <tr>\n",
       "      <th>3</th>\n",
       "      <td>Yi</td>\n",
       "      <td>Shanghai</td>\n",
       "      <td>34</td>\n",
       "      <td>80.0</td>\n",
       "      <td>79.0</td>\n",
       "      <td>79.571429</td>\n",
       "    </tr>\n",
       "    <tr>\n",
       "      <th>4</th>\n",
       "      <td>Robin</td>\n",
       "      <td>Manchester</td>\n",
       "      <td>38</td>\n",
       "      <td>68.0</td>\n",
       "      <td>91.0</td>\n",
       "      <td>77.857143</td>\n",
       "    </tr>\n",
       "    <tr>\n",
       "      <th>5</th>\n",
       "      <td>Amal</td>\n",
       "      <td>Cairo</td>\n",
       "      <td>31</td>\n",
       "      <td>61.0</td>\n",
       "      <td>91.0</td>\n",
       "      <td>73.857143</td>\n",
       "    </tr>\n",
       "    <tr>\n",
       "      <th>6</th>\n",
       "      <td>Nori</td>\n",
       "      <td>Osaka</td>\n",
       "      <td>37</td>\n",
       "      <td>84.0</td>\n",
       "      <td>80.0</td>\n",
       "      <td>82.285714</td>\n",
       "    </tr>\n",
       "  </tbody>\n",
       "</table>\n",
       "</div>"
      ],
      "text/plain": [
       "     name         city  age  py-score  js-score      total\n",
       "0  Xavier  Mexico City   41      88.0      71.0  80.714286\n",
       "1     Ann      Toronto   28      79.0      95.0  85.857143\n",
       "2    Jana       Prague   33      81.0      88.0  84.000000\n",
       "3      Yi     Shanghai   34      80.0      79.0  79.571429\n",
       "4   Robin   Manchester   38      68.0      91.0  77.857143\n",
       "5    Amal        Cairo   31      61.0      91.0  73.857143\n",
       "6    Nori        Osaka   37      84.0      80.0  82.285714"
      ]
     },
     "execution_count": 5,
     "metadata": {},
     "output_type": "execute_result"
    }
   ],
   "source": [
    "## adding computed column , feature engineering \n",
    "students_df['total'] =\\\n",
    "(0.4 * students_df['py-score'] + 0.3 * students_df['js-score'])/0.7\n",
    "students_df\n"
   ]
  },
  {
   "cell_type": "code",
   "execution_count": 6,
   "id": "1c9b41df",
   "metadata": {
    "scrolled": true
   },
   "outputs": [
    {
     "data": {
      "text/html": [
       "<div>\n",
       "<style scoped>\n",
       "    .dataframe tbody tr th:only-of-type {\n",
       "        vertical-align: middle;\n",
       "    }\n",
       "\n",
       "    .dataframe tbody tr th {\n",
       "        vertical-align: top;\n",
       "    }\n",
       "\n",
       "    .dataframe thead th {\n",
       "        text-align: right;\n",
       "    }\n",
       "</style>\n",
       "<table border=\"1\" class=\"dataframe\">\n",
       "  <thead>\n",
       "    <tr style=\"text-align: right;\">\n",
       "      <th></th>\n",
       "      <th>py-score</th>\n",
       "      <th>js-score</th>\n",
       "    </tr>\n",
       "  </thead>\n",
       "  <tbody>\n",
       "    <tr>\n",
       "      <th>0</th>\n",
       "      <td>88.0</td>\n",
       "      <td>71.0</td>\n",
       "    </tr>\n",
       "    <tr>\n",
       "      <th>1</th>\n",
       "      <td>79.0</td>\n",
       "      <td>95.0</td>\n",
       "    </tr>\n",
       "    <tr>\n",
       "      <th>2</th>\n",
       "      <td>81.0</td>\n",
       "      <td>88.0</td>\n",
       "    </tr>\n",
       "    <tr>\n",
       "      <th>3</th>\n",
       "      <td>80.0</td>\n",
       "      <td>79.0</td>\n",
       "    </tr>\n",
       "    <tr>\n",
       "      <th>4</th>\n",
       "      <td>68.0</td>\n",
       "      <td>91.0</td>\n",
       "    </tr>\n",
       "    <tr>\n",
       "      <th>5</th>\n",
       "      <td>61.0</td>\n",
       "      <td>91.0</td>\n",
       "    </tr>\n",
       "    <tr>\n",
       "      <th>6</th>\n",
       "      <td>84.0</td>\n",
       "      <td>80.0</td>\n",
       "    </tr>\n",
       "  </tbody>\n",
       "</table>\n",
       "</div>"
      ],
      "text/plain": [
       "   py-score  js-score\n",
       "0      88.0      71.0\n",
       "1      79.0      95.0\n",
       "2      81.0      88.0\n",
       "3      80.0      79.0\n",
       "4      68.0      91.0\n",
       "5      61.0      91.0\n",
       "6      84.0      80.0"
      ]
     },
     "execution_count": 6,
     "metadata": {},
     "output_type": "execute_result"
    }
   ],
   "source": [
    "students_df.iloc[:, 3:5]"
   ]
  },
  {
   "cell_type": "markdown",
   "id": "8d0d60ec",
   "metadata": {},
   "source": [
    "### using existing NumPy function instead of writing your own function"
   ]
  },
  {
   "cell_type": "code",
   "execution_count": 7,
   "id": "72b5cd1c",
   "metadata": {},
   "outputs": [
    {
     "data": {
      "text/plain": [
       "array([80.71428571, 85.85714286, 84.        , 79.57142857, 77.85714286,\n",
       "       73.85714286, 82.28571429])"
      ]
     },
     "execution_count": 7,
     "metadata": {},
     "output_type": "execute_result"
    }
   ],
   "source": [
    "np.average(students_df.iloc[:, 3:5], axis=1,\n",
    "                         weights=[0.4, 0.3])"
   ]
  },
  {
   "cell_type": "code",
   "execution_count": 8,
   "id": "56424da1",
   "metadata": {},
   "outputs": [],
   "source": [
    "students_df['total']= np.average(students_df.iloc[:, 3:5], axis=1,\n",
    "                         weights=[0.4, 0.3])"
   ]
  },
  {
   "cell_type": "code",
   "execution_count": 9,
   "id": "8e200668",
   "metadata": {},
   "outputs": [
    {
     "data": {
      "text/plain": [
       "0    88.0\n",
       "1    79.0\n",
       "2    81.0\n",
       "3    80.0\n",
       "4    68.0\n",
       "5    61.0\n",
       "6    84.0\n",
       "Name: py-score, dtype: float64"
      ]
     },
     "execution_count": 9,
     "metadata": {},
     "output_type": "execute_result"
    }
   ],
   "source": [
    "students_df['py-score']"
   ]
  },
  {
   "cell_type": "code",
   "execution_count": 14,
   "id": "97341e0a-90c7-43f6-8c87-ed343b9cbfcf",
   "metadata": {
    "tags": []
   },
   "outputs": [],
   "source": [
    "students_df['good_student'] = students_df['py-score'].apply(lambda x: True if x >= 80 else False)"
   ]
  },
  {
   "cell_type": "code",
   "execution_count": 15,
   "id": "55633c1b-d7e3-4832-9816-93ad97a82901",
   "metadata": {
    "tags": []
   },
   "outputs": [
    {
     "data": {
      "text/html": [
       "<div>\n",
       "<style scoped>\n",
       "    .dataframe tbody tr th:only-of-type {\n",
       "        vertical-align: middle;\n",
       "    }\n",
       "\n",
       "    .dataframe tbody tr th {\n",
       "        vertical-align: top;\n",
       "    }\n",
       "\n",
       "    .dataframe thead th {\n",
       "        text-align: right;\n",
       "    }\n",
       "</style>\n",
       "<table border=\"1\" class=\"dataframe\">\n",
       "  <thead>\n",
       "    <tr style=\"text-align: right;\">\n",
       "      <th></th>\n",
       "      <th>name</th>\n",
       "      <th>city</th>\n",
       "      <th>age</th>\n",
       "      <th>py-score</th>\n",
       "      <th>js-score</th>\n",
       "      <th>total</th>\n",
       "      <th>good_student</th>\n",
       "    </tr>\n",
       "  </thead>\n",
       "  <tbody>\n",
       "    <tr>\n",
       "      <th>0</th>\n",
       "      <td>Xavier</td>\n",
       "      <td>Mexico City</td>\n",
       "      <td>41</td>\n",
       "      <td>88.0</td>\n",
       "      <td>71.0</td>\n",
       "      <td>80.714286</td>\n",
       "      <td>True</td>\n",
       "    </tr>\n",
       "    <tr>\n",
       "      <th>1</th>\n",
       "      <td>Ann</td>\n",
       "      <td>Toronto</td>\n",
       "      <td>28</td>\n",
       "      <td>79.0</td>\n",
       "      <td>95.0</td>\n",
       "      <td>85.857143</td>\n",
       "      <td>False</td>\n",
       "    </tr>\n",
       "    <tr>\n",
       "      <th>2</th>\n",
       "      <td>Jana</td>\n",
       "      <td>Prague</td>\n",
       "      <td>33</td>\n",
       "      <td>81.0</td>\n",
       "      <td>88.0</td>\n",
       "      <td>84.000000</td>\n",
       "      <td>True</td>\n",
       "    </tr>\n",
       "    <tr>\n",
       "      <th>3</th>\n",
       "      <td>Yi</td>\n",
       "      <td>Shanghai</td>\n",
       "      <td>34</td>\n",
       "      <td>80.0</td>\n",
       "      <td>79.0</td>\n",
       "      <td>79.571429</td>\n",
       "      <td>True</td>\n",
       "    </tr>\n",
       "    <tr>\n",
       "      <th>4</th>\n",
       "      <td>Robin</td>\n",
       "      <td>Manchester</td>\n",
       "      <td>38</td>\n",
       "      <td>68.0</td>\n",
       "      <td>91.0</td>\n",
       "      <td>77.857143</td>\n",
       "      <td>False</td>\n",
       "    </tr>\n",
       "    <tr>\n",
       "      <th>5</th>\n",
       "      <td>Amal</td>\n",
       "      <td>Cairo</td>\n",
       "      <td>31</td>\n",
       "      <td>61.0</td>\n",
       "      <td>91.0</td>\n",
       "      <td>73.857143</td>\n",
       "      <td>False</td>\n",
       "    </tr>\n",
       "    <tr>\n",
       "      <th>6</th>\n",
       "      <td>Nori</td>\n",
       "      <td>Osaka</td>\n",
       "      <td>37</td>\n",
       "      <td>84.0</td>\n",
       "      <td>80.0</td>\n",
       "      <td>82.285714</td>\n",
       "      <td>True</td>\n",
       "    </tr>\n",
       "  </tbody>\n",
       "</table>\n",
       "</div>"
      ],
      "text/plain": [
       "     name         city  age  py-score  js-score      total  good_student\n",
       "0  Xavier  Mexico City   41      88.0      71.0  80.714286          True\n",
       "1     Ann      Toronto   28      79.0      95.0  85.857143         False\n",
       "2    Jana       Prague   33      81.0      88.0  84.000000          True\n",
       "3      Yi     Shanghai   34      80.0      79.0  79.571429          True\n",
       "4   Robin   Manchester   38      68.0      91.0  77.857143         False\n",
       "5    Amal        Cairo   31      61.0      91.0  73.857143         False\n",
       "6    Nori        Osaka   37      84.0      80.0  82.285714          True"
      ]
     },
     "execution_count": 15,
     "metadata": {},
     "output_type": "execute_result"
    }
   ],
   "source": [
    "students_df"
   ]
  },
  {
   "cell_type": "code",
   "execution_count": 16,
   "id": "857e47a8-0239-440c-acf5-fabd38b13c9b",
   "metadata": {
    "tags": []
   },
   "outputs": [
    {
     "name": "stdout",
     "output_type": "stream",
     "text": [
      "<class 'pandas.core.frame.DataFrame'>\n",
      "RangeIndex: 7 entries, 0 to 6\n",
      "Data columns (total 7 columns):\n",
      " #   Column        Non-Null Count  Dtype  \n",
      "---  ------        --------------  -----  \n",
      " 0   name          7 non-null      object \n",
      " 1   city          7 non-null      object \n",
      " 2   age           7 non-null      int64  \n",
      " 3   py-score      7 non-null      float64\n",
      " 4   js-score      7 non-null      float64\n",
      " 5   total         7 non-null      float64\n",
      " 6   good_student  7 non-null      bool   \n",
      "dtypes: bool(1), float64(3), int64(1), object(2)\n",
      "memory usage: 471.0+ bytes\n"
     ]
    }
   ],
   "source": [
    "students_df.info()"
   ]
  },
  {
   "cell_type": "markdown",
   "id": "11463779",
   "metadata": {},
   "source": [
    "### Apply function"
   ]
  },
  {
   "cell_type": "code",
   "execution_count": 17,
   "id": "1d433735",
   "metadata": {},
   "outputs": [
    {
     "data": {
      "text/html": [
       "<div>\n",
       "<style scoped>\n",
       "    .dataframe tbody tr th:only-of-type {\n",
       "        vertical-align: middle;\n",
       "    }\n",
       "\n",
       "    .dataframe tbody tr th {\n",
       "        vertical-align: top;\n",
       "    }\n",
       "\n",
       "    .dataframe thead th {\n",
       "        text-align: right;\n",
       "    }\n",
       "</style>\n",
       "<table border=\"1\" class=\"dataframe\">\n",
       "  <thead>\n",
       "    <tr style=\"text-align: right;\">\n",
       "      <th></th>\n",
       "      <th>py-score</th>\n",
       "    </tr>\n",
       "  </thead>\n",
       "  <tbody>\n",
       "    <tr>\n",
       "      <th>0</th>\n",
       "      <td>880.0</td>\n",
       "    </tr>\n",
       "    <tr>\n",
       "      <th>1</th>\n",
       "      <td>790.0</td>\n",
       "    </tr>\n",
       "    <tr>\n",
       "      <th>2</th>\n",
       "      <td>810.0</td>\n",
       "    </tr>\n",
       "    <tr>\n",
       "      <th>3</th>\n",
       "      <td>800.0</td>\n",
       "    </tr>\n",
       "    <tr>\n",
       "      <th>4</th>\n",
       "      <td>680.0</td>\n",
       "    </tr>\n",
       "    <tr>\n",
       "      <th>5</th>\n",
       "      <td>610.0</td>\n",
       "    </tr>\n",
       "    <tr>\n",
       "      <th>6</th>\n",
       "      <td>840.0</td>\n",
       "    </tr>\n",
       "  </tbody>\n",
       "</table>\n",
       "</div>"
      ],
      "text/plain": [
       "   py-score\n",
       "0     880.0\n",
       "1     790.0\n",
       "2     810.0\n",
       "3     800.0\n",
       "4     680.0\n",
       "5     610.0\n",
       "6     840.0"
      ]
     },
     "execution_count": 17,
     "metadata": {},
     "output_type": "execute_result"
    }
   ],
   "source": [
    "students_df[[\"py-score\"]].apply(lambda x :  x* 10)"
   ]
  },
  {
   "cell_type": "code",
   "execution_count": 18,
   "id": "e4e0729a",
   "metadata": {},
   "outputs": [
    {
     "data": {
      "text/html": [
       "<div>\n",
       "<style scoped>\n",
       "    .dataframe tbody tr th:only-of-type {\n",
       "        vertical-align: middle;\n",
       "    }\n",
       "\n",
       "    .dataframe tbody tr th {\n",
       "        vertical-align: top;\n",
       "    }\n",
       "\n",
       "    .dataframe thead th {\n",
       "        text-align: right;\n",
       "    }\n",
       "</style>\n",
       "<table border=\"1\" class=\"dataframe\">\n",
       "  <thead>\n",
       "    <tr style=\"text-align: right;\">\n",
       "      <th></th>\n",
       "      <th>py-score</th>\n",
       "      <th>js-score</th>\n",
       "    </tr>\n",
       "  </thead>\n",
       "  <tbody>\n",
       "    <tr>\n",
       "      <th>0</th>\n",
       "      <td>9.380832</td>\n",
       "      <td>8.426150</td>\n",
       "    </tr>\n",
       "    <tr>\n",
       "      <th>1</th>\n",
       "      <td>8.888194</td>\n",
       "      <td>9.746794</td>\n",
       "    </tr>\n",
       "    <tr>\n",
       "      <th>2</th>\n",
       "      <td>9.000000</td>\n",
       "      <td>9.380832</td>\n",
       "    </tr>\n",
       "    <tr>\n",
       "      <th>3</th>\n",
       "      <td>8.944272</td>\n",
       "      <td>8.888194</td>\n",
       "    </tr>\n",
       "    <tr>\n",
       "      <th>4</th>\n",
       "      <td>8.246211</td>\n",
       "      <td>9.539392</td>\n",
       "    </tr>\n",
       "    <tr>\n",
       "      <th>5</th>\n",
       "      <td>7.810250</td>\n",
       "      <td>9.539392</td>\n",
       "    </tr>\n",
       "    <tr>\n",
       "      <th>6</th>\n",
       "      <td>9.165151</td>\n",
       "      <td>8.944272</td>\n",
       "    </tr>\n",
       "  </tbody>\n",
       "</table>\n",
       "</div>"
      ],
      "text/plain": [
       "   py-score  js-score\n",
       "0  9.380832  8.426150\n",
       "1  8.888194  9.746794\n",
       "2  9.000000  9.380832\n",
       "3  8.944272  8.888194\n",
       "4  8.246211  9.539392\n",
       "5  7.810250  9.539392\n",
       "6  9.165151  8.944272"
      ]
     },
     "execution_count": 18,
     "metadata": {},
     "output_type": "execute_result"
    }
   ],
   "source": [
    "students_df[[\"py-score\",\"js-score\"]].apply(np.sqrt)"
   ]
  },
  {
   "cell_type": "code",
   "execution_count": 19,
   "id": "b0c12309",
   "metadata": {},
   "outputs": [
    {
     "data": {
      "text/html": [
       "<div>\n",
       "<style scoped>\n",
       "    .dataframe tbody tr th:only-of-type {\n",
       "        vertical-align: middle;\n",
       "    }\n",
       "\n",
       "    .dataframe tbody tr th {\n",
       "        vertical-align: top;\n",
       "    }\n",
       "\n",
       "    .dataframe thead th {\n",
       "        text-align: right;\n",
       "    }\n",
       "</style>\n",
       "<table border=\"1\" class=\"dataframe\">\n",
       "  <thead>\n",
       "    <tr style=\"text-align: right;\">\n",
       "      <th></th>\n",
       "      <th>name</th>\n",
       "      <th>city</th>\n",
       "      <th>age</th>\n",
       "      <th>py-score</th>\n",
       "      <th>js-score</th>\n",
       "      <th>total</th>\n",
       "      <th>good_student</th>\n",
       "    </tr>\n",
       "  </thead>\n",
       "  <tbody>\n",
       "    <tr>\n",
       "      <th>0</th>\n",
       "      <td>Xavier</td>\n",
       "      <td>Mexico City</td>\n",
       "      <td>41</td>\n",
       "      <td>88.0</td>\n",
       "      <td>71.0</td>\n",
       "      <td>80.714286</td>\n",
       "      <td>True</td>\n",
       "    </tr>\n",
       "    <tr>\n",
       "      <th>1</th>\n",
       "      <td>Ann</td>\n",
       "      <td>Toronto</td>\n",
       "      <td>28</td>\n",
       "      <td>79.0</td>\n",
       "      <td>95.0</td>\n",
       "      <td>85.857143</td>\n",
       "      <td>False</td>\n",
       "    </tr>\n",
       "    <tr>\n",
       "      <th>2</th>\n",
       "      <td>Jana</td>\n",
       "      <td>Prague</td>\n",
       "      <td>33</td>\n",
       "      <td>81.0</td>\n",
       "      <td>88.0</td>\n",
       "      <td>84.000000</td>\n",
       "      <td>True</td>\n",
       "    </tr>\n",
       "    <tr>\n",
       "      <th>3</th>\n",
       "      <td>Yi</td>\n",
       "      <td>Shanghai</td>\n",
       "      <td>34</td>\n",
       "      <td>80.0</td>\n",
       "      <td>79.0</td>\n",
       "      <td>79.571429</td>\n",
       "      <td>True</td>\n",
       "    </tr>\n",
       "    <tr>\n",
       "      <th>4</th>\n",
       "      <td>Robin</td>\n",
       "      <td>Manchester</td>\n",
       "      <td>38</td>\n",
       "      <td>68.0</td>\n",
       "      <td>91.0</td>\n",
       "      <td>77.857143</td>\n",
       "      <td>False</td>\n",
       "    </tr>\n",
       "    <tr>\n",
       "      <th>5</th>\n",
       "      <td>Amal</td>\n",
       "      <td>Cairo</td>\n",
       "      <td>31</td>\n",
       "      <td>61.0</td>\n",
       "      <td>91.0</td>\n",
       "      <td>73.857143</td>\n",
       "      <td>False</td>\n",
       "    </tr>\n",
       "    <tr>\n",
       "      <th>6</th>\n",
       "      <td>Nori</td>\n",
       "      <td>Osaka</td>\n",
       "      <td>37</td>\n",
       "      <td>84.0</td>\n",
       "      <td>80.0</td>\n",
       "      <td>82.285714</td>\n",
       "      <td>True</td>\n",
       "    </tr>\n",
       "  </tbody>\n",
       "</table>\n",
       "</div>"
      ],
      "text/plain": [
       "     name         city  age  py-score  js-score      total  good_student\n",
       "0  Xavier  Mexico City   41      88.0      71.0  80.714286          True\n",
       "1     Ann      Toronto   28      79.0      95.0  85.857143         False\n",
       "2    Jana       Prague   33      81.0      88.0  84.000000          True\n",
       "3      Yi     Shanghai   34      80.0      79.0  79.571429          True\n",
       "4   Robin   Manchester   38      68.0      91.0  77.857143         False\n",
       "5    Amal        Cairo   31      61.0      91.0  73.857143         False\n",
       "6    Nori        Osaka   37      84.0      80.0  82.285714          True"
      ]
     },
     "execution_count": 19,
     "metadata": {},
     "output_type": "execute_result"
    }
   ],
   "source": [
    "students_df"
   ]
  },
  {
   "cell_type": "code",
   "execution_count": 20,
   "id": "be3284a7",
   "metadata": {},
   "outputs": [
    {
     "data": {
      "text/html": [
       "<div>\n",
       "<style scoped>\n",
       "    .dataframe tbody tr th:only-of-type {\n",
       "        vertical-align: middle;\n",
       "    }\n",
       "\n",
       "    .dataframe tbody tr th {\n",
       "        vertical-align: top;\n",
       "    }\n",
       "\n",
       "    .dataframe thead th {\n",
       "        text-align: right;\n",
       "    }\n",
       "</style>\n",
       "<table border=\"1\" class=\"dataframe\">\n",
       "  <thead>\n",
       "    <tr style=\"text-align: right;\">\n",
       "      <th></th>\n",
       "      <th>name</th>\n",
       "      <th>city</th>\n",
       "      <th>age</th>\n",
       "      <th>py-score</th>\n",
       "      <th>js-score</th>\n",
       "      <th>total</th>\n",
       "      <th>good_student</th>\n",
       "    </tr>\n",
       "  </thead>\n",
       "  <tbody>\n",
       "    <tr>\n",
       "      <th>0</th>\n",
       "      <td>Xavier</td>\n",
       "      <td>Mexico City</td>\n",
       "      <td>41</td>\n",
       "      <td>88.0</td>\n",
       "      <td>71.0</td>\n",
       "      <td>50</td>\n",
       "      <td>True</td>\n",
       "    </tr>\n",
       "    <tr>\n",
       "      <th>1</th>\n",
       "      <td>Ann</td>\n",
       "      <td>Toronto</td>\n",
       "      <td>28</td>\n",
       "      <td>79.0</td>\n",
       "      <td>95.0</td>\n",
       "      <td>50</td>\n",
       "      <td>False</td>\n",
       "    </tr>\n",
       "    <tr>\n",
       "      <th>2</th>\n",
       "      <td>Jana</td>\n",
       "      <td>Prague</td>\n",
       "      <td>33</td>\n",
       "      <td>81.0</td>\n",
       "      <td>88.0</td>\n",
       "      <td>50</td>\n",
       "      <td>True</td>\n",
       "    </tr>\n",
       "    <tr>\n",
       "      <th>3</th>\n",
       "      <td>Yi</td>\n",
       "      <td>Shanghai</td>\n",
       "      <td>34</td>\n",
       "      <td>80.0</td>\n",
       "      <td>79.0</td>\n",
       "      <td>50</td>\n",
       "      <td>True</td>\n",
       "    </tr>\n",
       "    <tr>\n",
       "      <th>4</th>\n",
       "      <td>Robin</td>\n",
       "      <td>Manchester</td>\n",
       "      <td>38</td>\n",
       "      <td>68.0</td>\n",
       "      <td>91.0</td>\n",
       "      <td>50</td>\n",
       "      <td>False</td>\n",
       "    </tr>\n",
       "    <tr>\n",
       "      <th>5</th>\n",
       "      <td>Amal</td>\n",
       "      <td>Cairo</td>\n",
       "      <td>31</td>\n",
       "      <td>61.0</td>\n",
       "      <td>91.0</td>\n",
       "      <td>50</td>\n",
       "      <td>False</td>\n",
       "    </tr>\n",
       "    <tr>\n",
       "      <th>6</th>\n",
       "      <td>Nori</td>\n",
       "      <td>Osaka</td>\n",
       "      <td>37</td>\n",
       "      <td>84.0</td>\n",
       "      <td>80.0</td>\n",
       "      <td>50</td>\n",
       "      <td>True</td>\n",
       "    </tr>\n",
       "  </tbody>\n",
       "</table>\n",
       "</div>"
      ],
      "text/plain": [
       "     name         city  age  py-score  js-score  total  good_student\n",
       "0  Xavier  Mexico City   41      88.0      71.0     50          True\n",
       "1     Ann      Toronto   28      79.0      95.0     50         False\n",
       "2    Jana       Prague   33      81.0      88.0     50          True\n",
       "3      Yi     Shanghai   34      80.0      79.0     50          True\n",
       "4   Robin   Manchester   38      68.0      91.0     50         False\n",
       "5    Amal        Cairo   31      61.0      91.0     50         False\n",
       "6    Nori        Osaka   37      84.0      80.0     50          True"
      ]
     },
     "execution_count": 20,
     "metadata": {},
     "output_type": "execute_result"
    }
   ],
   "source": [
    "students_df['total'] = 50\n",
    "students_df"
   ]
  },
  {
   "cell_type": "markdown",
   "id": "9ecdf6cb",
   "metadata": {},
   "source": [
    "## Map function with Lambda"
   ]
  },
  {
   "cell_type": "code",
   "execution_count": 21,
   "id": "72e3763e",
   "metadata": {
    "scrolled": true
   },
   "outputs": [
    {
     "data": {
      "text/html": [
       "<div>\n",
       "<style scoped>\n",
       "    .dataframe tbody tr th:only-of-type {\n",
       "        vertical-align: middle;\n",
       "    }\n",
       "\n",
       "    .dataframe tbody tr th {\n",
       "        vertical-align: top;\n",
       "    }\n",
       "\n",
       "    .dataframe thead th {\n",
       "        text-align: right;\n",
       "    }\n",
       "</style>\n",
       "<table border=\"1\" class=\"dataframe\">\n",
       "  <thead>\n",
       "    <tr style=\"text-align: right;\">\n",
       "      <th></th>\n",
       "      <th>name</th>\n",
       "      <th>city</th>\n",
       "      <th>age</th>\n",
       "      <th>py-score</th>\n",
       "      <th>js-score</th>\n",
       "      <th>total</th>\n",
       "      <th>good_student</th>\n",
       "    </tr>\n",
       "  </thead>\n",
       "  <tbody>\n",
       "    <tr>\n",
       "      <th>0</th>\n",
       "      <td>Xavier</td>\n",
       "      <td>Mexico City</td>\n",
       "      <td>41</td>\n",
       "      <td>98.0</td>\n",
       "      <td>71.0</td>\n",
       "      <td>50</td>\n",
       "      <td>True</td>\n",
       "    </tr>\n",
       "    <tr>\n",
       "      <th>1</th>\n",
       "      <td>Ann</td>\n",
       "      <td>Toronto</td>\n",
       "      <td>28</td>\n",
       "      <td>89.0</td>\n",
       "      <td>95.0</td>\n",
       "      <td>50</td>\n",
       "      <td>False</td>\n",
       "    </tr>\n",
       "    <tr>\n",
       "      <th>2</th>\n",
       "      <td>Jana</td>\n",
       "      <td>Prague</td>\n",
       "      <td>33</td>\n",
       "      <td>91.0</td>\n",
       "      <td>88.0</td>\n",
       "      <td>50</td>\n",
       "      <td>True</td>\n",
       "    </tr>\n",
       "    <tr>\n",
       "      <th>3</th>\n",
       "      <td>Yi</td>\n",
       "      <td>Shanghai</td>\n",
       "      <td>34</td>\n",
       "      <td>90.0</td>\n",
       "      <td>79.0</td>\n",
       "      <td>50</td>\n",
       "      <td>True</td>\n",
       "    </tr>\n",
       "    <tr>\n",
       "      <th>4</th>\n",
       "      <td>Robin</td>\n",
       "      <td>Manchester</td>\n",
       "      <td>38</td>\n",
       "      <td>78.0</td>\n",
       "      <td>91.0</td>\n",
       "      <td>50</td>\n",
       "      <td>False</td>\n",
       "    </tr>\n",
       "    <tr>\n",
       "      <th>5</th>\n",
       "      <td>Amal</td>\n",
       "      <td>Cairo</td>\n",
       "      <td>31</td>\n",
       "      <td>71.0</td>\n",
       "      <td>91.0</td>\n",
       "      <td>50</td>\n",
       "      <td>False</td>\n",
       "    </tr>\n",
       "    <tr>\n",
       "      <th>6</th>\n",
       "      <td>Nori</td>\n",
       "      <td>Osaka</td>\n",
       "      <td>37</td>\n",
       "      <td>94.0</td>\n",
       "      <td>80.0</td>\n",
       "      <td>50</td>\n",
       "      <td>True</td>\n",
       "    </tr>\n",
       "  </tbody>\n",
       "</table>\n",
       "</div>"
      ],
      "text/plain": [
       "     name         city  age  py-score  js-score  total  good_student\n",
       "0  Xavier  Mexico City   41      98.0      71.0     50          True\n",
       "1     Ann      Toronto   28      89.0      95.0     50         False\n",
       "2    Jana       Prague   33      91.0      88.0     50          True\n",
       "3      Yi     Shanghai   34      90.0      79.0     50          True\n",
       "4   Robin   Manchester   38      78.0      91.0     50         False\n",
       "5    Amal        Cairo   31      71.0      91.0     50         False\n",
       "6    Nori        Osaka   37      94.0      80.0     50          True"
      ]
     },
     "execution_count": 21,
     "metadata": {},
     "output_type": "execute_result"
    }
   ],
   "source": [
    "students_df[\"py-score\"]= list(map(lambda x:x+10,students_df[\"py-score\"]))\n",
    "students_df"
   ]
  },
  {
   "cell_type": "code",
   "execution_count": 22,
   "id": "d54980b5",
   "metadata": {},
   "outputs": [
    {
     "data": {
      "text/html": [
       "<div>\n",
       "<style scoped>\n",
       "    .dataframe tbody tr th:only-of-type {\n",
       "        vertical-align: middle;\n",
       "    }\n",
       "\n",
       "    .dataframe tbody tr th {\n",
       "        vertical-align: top;\n",
       "    }\n",
       "\n",
       "    .dataframe thead th {\n",
       "        text-align: right;\n",
       "    }\n",
       "</style>\n",
       "<table border=\"1\" class=\"dataframe\">\n",
       "  <thead>\n",
       "    <tr style=\"text-align: right;\">\n",
       "      <th></th>\n",
       "      <th>name</th>\n",
       "      <th>city</th>\n",
       "      <th>age</th>\n",
       "      <th>py-score</th>\n",
       "      <th>js-score</th>\n",
       "      <th>total</th>\n",
       "      <th>good_student</th>\n",
       "    </tr>\n",
       "  </thead>\n",
       "  <tbody>\n",
       "    <tr>\n",
       "      <th>0</th>\n",
       "      <td>Xavier</td>\n",
       "      <td>Mexico City</td>\n",
       "      <td>41</td>\n",
       "      <td>108.0</td>\n",
       "      <td>71.0</td>\n",
       "      <td>50</td>\n",
       "      <td>True</td>\n",
       "    </tr>\n",
       "    <tr>\n",
       "      <th>1</th>\n",
       "      <td>Ann</td>\n",
       "      <td>Toronto</td>\n",
       "      <td>28</td>\n",
       "      <td>99.0</td>\n",
       "      <td>95.0</td>\n",
       "      <td>50</td>\n",
       "      <td>False</td>\n",
       "    </tr>\n",
       "    <tr>\n",
       "      <th>2</th>\n",
       "      <td>Jana</td>\n",
       "      <td>Prague</td>\n",
       "      <td>33</td>\n",
       "      <td>101.0</td>\n",
       "      <td>88.0</td>\n",
       "      <td>50</td>\n",
       "      <td>True</td>\n",
       "    </tr>\n",
       "    <tr>\n",
       "      <th>3</th>\n",
       "      <td>Yi</td>\n",
       "      <td>Shanghai</td>\n",
       "      <td>34</td>\n",
       "      <td>100.0</td>\n",
       "      <td>79.0</td>\n",
       "      <td>50</td>\n",
       "      <td>True</td>\n",
       "    </tr>\n",
       "    <tr>\n",
       "      <th>4</th>\n",
       "      <td>Robin</td>\n",
       "      <td>Manchester</td>\n",
       "      <td>38</td>\n",
       "      <td>88.0</td>\n",
       "      <td>91.0</td>\n",
       "      <td>50</td>\n",
       "      <td>False</td>\n",
       "    </tr>\n",
       "    <tr>\n",
       "      <th>5</th>\n",
       "      <td>Amal</td>\n",
       "      <td>Cairo</td>\n",
       "      <td>31</td>\n",
       "      <td>81.0</td>\n",
       "      <td>91.0</td>\n",
       "      <td>50</td>\n",
       "      <td>False</td>\n",
       "    </tr>\n",
       "    <tr>\n",
       "      <th>6</th>\n",
       "      <td>Nori</td>\n",
       "      <td>Osaka</td>\n",
       "      <td>37</td>\n",
       "      <td>104.0</td>\n",
       "      <td>80.0</td>\n",
       "      <td>50</td>\n",
       "      <td>True</td>\n",
       "    </tr>\n",
       "  </tbody>\n",
       "</table>\n",
       "</div>"
      ],
      "text/plain": [
       "     name         city  age  py-score  js-score  total  good_student\n",
       "0  Xavier  Mexico City   41     108.0      71.0     50          True\n",
       "1     Ann      Toronto   28      99.0      95.0     50         False\n",
       "2    Jana       Prague   33     101.0      88.0     50          True\n",
       "3      Yi     Shanghai   34     100.0      79.0     50          True\n",
       "4   Robin   Manchester   38      88.0      91.0     50         False\n",
       "5    Amal        Cairo   31      81.0      91.0     50         False\n",
       "6    Nori        Osaka   37     104.0      80.0     50          True"
      ]
     },
     "execution_count": 22,
     "metadata": {},
     "output_type": "execute_result"
    }
   ],
   "source": [
    "students_df[\"py-score\"]= students_df[\"py-score\"].apply(lambda x: x+10)\n",
    "students_df"
   ]
  },
  {
   "cell_type": "code",
   "execution_count": 24,
   "id": "2eafda7e-f23b-4abe-99aa-29ddbb62e608",
   "metadata": {
    "tags": []
   },
   "outputs": [],
   "source": [
    "students_df[\"py-score-half\"] = list(map(lambda x:x/2,students_df[\"py-score\"]))"
   ]
  },
  {
   "cell_type": "code",
   "execution_count": 25,
   "id": "fb234de8-f9fa-4782-8a8d-ad4d686b03a7",
   "metadata": {
    "tags": []
   },
   "outputs": [
    {
     "data": {
      "text/html": [
       "<div>\n",
       "<style scoped>\n",
       "    .dataframe tbody tr th:only-of-type {\n",
       "        vertical-align: middle;\n",
       "    }\n",
       "\n",
       "    .dataframe tbody tr th {\n",
       "        vertical-align: top;\n",
       "    }\n",
       "\n",
       "    .dataframe thead th {\n",
       "        text-align: right;\n",
       "    }\n",
       "</style>\n",
       "<table border=\"1\" class=\"dataframe\">\n",
       "  <thead>\n",
       "    <tr style=\"text-align: right;\">\n",
       "      <th></th>\n",
       "      <th>name</th>\n",
       "      <th>city</th>\n",
       "      <th>age</th>\n",
       "      <th>py-score</th>\n",
       "      <th>js-score</th>\n",
       "      <th>total</th>\n",
       "      <th>good_student</th>\n",
       "      <th>py-score-half</th>\n",
       "    </tr>\n",
       "  </thead>\n",
       "  <tbody>\n",
       "    <tr>\n",
       "      <th>0</th>\n",
       "      <td>Xavier</td>\n",
       "      <td>Mexico City</td>\n",
       "      <td>41</td>\n",
       "      <td>108.0</td>\n",
       "      <td>71.0</td>\n",
       "      <td>50</td>\n",
       "      <td>True</td>\n",
       "      <td>54.0</td>\n",
       "    </tr>\n",
       "    <tr>\n",
       "      <th>1</th>\n",
       "      <td>Ann</td>\n",
       "      <td>Toronto</td>\n",
       "      <td>28</td>\n",
       "      <td>99.0</td>\n",
       "      <td>95.0</td>\n",
       "      <td>50</td>\n",
       "      <td>False</td>\n",
       "      <td>49.5</td>\n",
       "    </tr>\n",
       "    <tr>\n",
       "      <th>2</th>\n",
       "      <td>Jana</td>\n",
       "      <td>Prague</td>\n",
       "      <td>33</td>\n",
       "      <td>101.0</td>\n",
       "      <td>88.0</td>\n",
       "      <td>50</td>\n",
       "      <td>True</td>\n",
       "      <td>50.5</td>\n",
       "    </tr>\n",
       "    <tr>\n",
       "      <th>3</th>\n",
       "      <td>Yi</td>\n",
       "      <td>Shanghai</td>\n",
       "      <td>34</td>\n",
       "      <td>100.0</td>\n",
       "      <td>79.0</td>\n",
       "      <td>50</td>\n",
       "      <td>True</td>\n",
       "      <td>50.0</td>\n",
       "    </tr>\n",
       "    <tr>\n",
       "      <th>4</th>\n",
       "      <td>Robin</td>\n",
       "      <td>Manchester</td>\n",
       "      <td>38</td>\n",
       "      <td>88.0</td>\n",
       "      <td>91.0</td>\n",
       "      <td>50</td>\n",
       "      <td>False</td>\n",
       "      <td>44.0</td>\n",
       "    </tr>\n",
       "    <tr>\n",
       "      <th>5</th>\n",
       "      <td>Amal</td>\n",
       "      <td>Cairo</td>\n",
       "      <td>31</td>\n",
       "      <td>81.0</td>\n",
       "      <td>91.0</td>\n",
       "      <td>50</td>\n",
       "      <td>False</td>\n",
       "      <td>40.5</td>\n",
       "    </tr>\n",
       "    <tr>\n",
       "      <th>6</th>\n",
       "      <td>Nori</td>\n",
       "      <td>Osaka</td>\n",
       "      <td>37</td>\n",
       "      <td>104.0</td>\n",
       "      <td>80.0</td>\n",
       "      <td>50</td>\n",
       "      <td>True</td>\n",
       "      <td>52.0</td>\n",
       "    </tr>\n",
       "  </tbody>\n",
       "</table>\n",
       "</div>"
      ],
      "text/plain": [
       "     name         city  age  py-score  js-score  total  good_student  \\\n",
       "0  Xavier  Mexico City   41     108.0      71.0     50          True   \n",
       "1     Ann      Toronto   28      99.0      95.0     50         False   \n",
       "2    Jana       Prague   33     101.0      88.0     50          True   \n",
       "3      Yi     Shanghai   34     100.0      79.0     50          True   \n",
       "4   Robin   Manchester   38      88.0      91.0     50         False   \n",
       "5    Amal        Cairo   31      81.0      91.0     50         False   \n",
       "6    Nori        Osaka   37     104.0      80.0     50          True   \n",
       "\n",
       "   py-score-half  \n",
       "0           54.0  \n",
       "1           49.5  \n",
       "2           50.5  \n",
       "3           50.0  \n",
       "4           44.0  \n",
       "5           40.5  \n",
       "6           52.0  "
      ]
     },
     "execution_count": 25,
     "metadata": {},
     "output_type": "execute_result"
    }
   ],
   "source": [
    "students_df"
   ]
  },
  {
   "cell_type": "markdown",
   "id": "db9f5faf",
   "metadata": {},
   "source": [
    "### Concatenating\n",
    "- concat mutilpe data frames on the same axis.\n",
    "- pd.concat()"
   ]
  },
  {
   "cell_type": "code",
   "execution_count": 26,
   "id": "a9ff1b23",
   "metadata": {},
   "outputs": [
    {
     "data": {
      "image/png": "[encoded data removed]",
      "text/plain": [
       "<IPython.core.display.Image object>"
      ]
     },
     "execution_count": 26,
     "metadata": {},
     "output_type": "execute_result"
    }
   ],
   "source": [
    "Image(\"res/merging_concat_dict_keys.png\")"
   ]
  },
  {
   "cell_type": "markdown",
   "id": "803e1055",
   "metadata": {},
   "source": [
    "source:pandas.pydata.org"
   ]
  },
  {
   "cell_type": "code",
   "execution_count": 27,
   "id": "b460c52e",
   "metadata": {},
   "outputs": [
    {
     "name": "stdout",
     "output_type": "stream",
     "text": [
      "df = pd.DataFrame(np.random.randn(10, 4))\n",
      "          0         1         2         3\n",
      "0 -0.643751 -1.221386 -0.509650  1.314670\n",
      "1 -0.605714 -0.864345  2.848923  1.323244\n",
      "2 -0.663252 -3.378284 -0.404476 -0.123229\n",
      "3  0.539890 -0.585878  0.720409 -0.024658\n",
      "4 -1.687519 -0.442913  1.898646 -0.518678\n",
      "5  0.878630 -0.481063  0.417932  1.613971\n",
      "6 -1.175446 -0.145002  0.976169 -1.675819\n",
      "\n",
      "pieces = [df[:2], df[2:4], df[4:]]\n"
     ]
    },
    {
     "data": {
      "text/plain": [
       "[          0         1         2         3\n",
       " 0 -0.643751 -1.221386 -0.509650  1.314670\n",
       " 1 -0.605714 -0.864345  2.848923  1.323244,\n",
       "           0         1         2         3\n",
       " 2 -0.663252 -3.378284 -0.404476 -0.123229\n",
       " 3  0.539890 -0.585878  0.720409 -0.024658,\n",
       "           0         1         2         3\n",
       " 4 -1.687519 -0.442913  1.898646 -0.518678\n",
       " 5  0.878630 -0.481063  0.417932  1.613971\n",
       " 6 -1.175446 -0.145002  0.976169 -1.675819]"
      ]
     },
     "execution_count": 27,
     "metadata": {},
     "output_type": "execute_result"
    }
   ],
   "source": [
    "print('df = pd.DataFrame(np.random.randn(10, 4))')\n",
    "df = pd.DataFrame(np.random.randn(7, 4))\n",
    "print(df)\n",
    "print(\"\\npieces = [df[:2], df[2:4], df[4:]]\")\n",
    "pieces = [df[:2], df[2:4], df[4:]]\n",
    "pieces"
   ]
  },
  {
   "cell_type": "code",
   "execution_count": 28,
   "id": "460542f5",
   "metadata": {
    "scrolled": true
   },
   "outputs": [
    {
     "name": "stdout",
     "output_type": "stream",
     "text": [
      "\n",
      "pd.concat(pieces)\n"
     ]
    },
    {
     "data": {
      "text/html": [
       "<div>\n",
       "<style scoped>\n",
       "    .dataframe tbody tr th:only-of-type {\n",
       "        vertical-align: middle;\n",
       "    }\n",
       "\n",
       "    .dataframe tbody tr th {\n",
       "        vertical-align: top;\n",
       "    }\n",
       "\n",
       "    .dataframe thead th {\n",
       "        text-align: right;\n",
       "    }\n",
       "</style>\n",
       "<table border=\"1\" class=\"dataframe\">\n",
       "  <thead>\n",
       "    <tr style=\"text-align: right;\">\n",
       "      <th></th>\n",
       "      <th>0</th>\n",
       "      <th>1</th>\n",
       "      <th>2</th>\n",
       "      <th>3</th>\n",
       "    </tr>\n",
       "  </thead>\n",
       "  <tbody>\n",
       "    <tr>\n",
       "      <th>0</th>\n",
       "      <td>-0.643751</td>\n",
       "      <td>-1.221386</td>\n",
       "      <td>-0.509650</td>\n",
       "      <td>1.314670</td>\n",
       "    </tr>\n",
       "    <tr>\n",
       "      <th>1</th>\n",
       "      <td>-0.605714</td>\n",
       "      <td>-0.864345</td>\n",
       "      <td>2.848923</td>\n",
       "      <td>1.323244</td>\n",
       "    </tr>\n",
       "    <tr>\n",
       "      <th>2</th>\n",
       "      <td>-0.663252</td>\n",
       "      <td>-3.378284</td>\n",
       "      <td>-0.404476</td>\n",
       "      <td>-0.123229</td>\n",
       "    </tr>\n",
       "    <tr>\n",
       "      <th>3</th>\n",
       "      <td>0.539890</td>\n",
       "      <td>-0.585878</td>\n",
       "      <td>0.720409</td>\n",
       "      <td>-0.024658</td>\n",
       "    </tr>\n",
       "    <tr>\n",
       "      <th>4</th>\n",
       "      <td>-1.687519</td>\n",
       "      <td>-0.442913</td>\n",
       "      <td>1.898646</td>\n",
       "      <td>-0.518678</td>\n",
       "    </tr>\n",
       "    <tr>\n",
       "      <th>5</th>\n",
       "      <td>0.878630</td>\n",
       "      <td>-0.481063</td>\n",
       "      <td>0.417932</td>\n",
       "      <td>1.613971</td>\n",
       "    </tr>\n",
       "    <tr>\n",
       "      <th>6</th>\n",
       "      <td>-1.175446</td>\n",
       "      <td>-0.145002</td>\n",
       "      <td>0.976169</td>\n",
       "      <td>-1.675819</td>\n",
       "    </tr>\n",
       "  </tbody>\n",
       "</table>\n",
       "</div>"
      ],
      "text/plain": [
       "          0         1         2         3\n",
       "0 -0.643751 -1.221386 -0.509650  1.314670\n",
       "1 -0.605714 -0.864345  2.848923  1.323244\n",
       "2 -0.663252 -3.378284 -0.404476 -0.123229\n",
       "3  0.539890 -0.585878  0.720409 -0.024658\n",
       "4 -1.687519 -0.442913  1.898646 -0.518678\n",
       "5  0.878630 -0.481063  0.417932  1.613971\n",
       "6 -1.175446 -0.145002  0.976169 -1.675819"
      ]
     },
     "execution_count": 28,
     "metadata": {},
     "output_type": "execute_result"
    }
   ],
   "source": [
    "print(\"\\npd.concat(pieces)\")\n",
    "pd.concat(pieces)"
   ]
  },
  {
   "cell_type": "markdown",
   "id": "8e0ee04b",
   "metadata": {},
   "source": [
    "### Working with Missing Data"
   ]
  },
  {
   "cell_type": "markdown",
   "id": "239b4c30",
   "metadata": {},
   "source": [
    "### np.nan is used to represent missing values"
   ]
  },
  {
   "cell_type": "code",
   "execution_count": 4,
   "id": "8a8f29d1",
   "metadata": {
    "tags": []
   },
   "outputs": [
    {
     "name": "stdout",
     "output_type": "stream",
     "text": [
      "df_ = pd.DataFrame({'x': [1, 2, np.nan, 4, np.nan]})\n"
     ]
    },
    {
     "data": {
      "text/html": [
       "<div>\n",
       "<style scoped>\n",
       "    .dataframe tbody tr th:only-of-type {\n",
       "        vertical-align: middle;\n",
       "    }\n",
       "\n",
       "    .dataframe tbody tr th {\n",
       "        vertical-align: top;\n",
       "    }\n",
       "\n",
       "    .dataframe thead th {\n",
       "        text-align: right;\n",
       "    }\n",
       "</style>\n",
       "<table border=\"1\" class=\"dataframe\">\n",
       "  <thead>\n",
       "    <tr style=\"text-align: right;\">\n",
       "      <th></th>\n",
       "      <th>x</th>\n",
       "    </tr>\n",
       "  </thead>\n",
       "  <tbody>\n",
       "    <tr>\n",
       "      <th>0</th>\n",
       "      <td>1.0</td>\n",
       "    </tr>\n",
       "    <tr>\n",
       "      <th>1</th>\n",
       "      <td>2.0</td>\n",
       "    </tr>\n",
       "    <tr>\n",
       "      <th>2</th>\n",
       "      <td>NaN</td>\n",
       "    </tr>\n",
       "    <tr>\n",
       "      <th>3</th>\n",
       "      <td>4.0</td>\n",
       "    </tr>\n",
       "    <tr>\n",
       "      <th>4</th>\n",
       "      <td>NaN</td>\n",
       "    </tr>\n",
       "  </tbody>\n",
       "</table>\n",
       "</div>"
      ],
      "text/plain": [
       "     x\n",
       "0  1.0\n",
       "1  2.0\n",
       "2  NaN\n",
       "3  4.0\n",
       "4  NaN"
      ]
     },
     "execution_count": 4,
     "metadata": {},
     "output_type": "execute_result"
    }
   ],
   "source": [
    "print(\"df_ = pd.DataFrame({'x': [1, 2, np.nan, 4, np.nan]})\")\n",
    "df_ = pd.DataFrame({'x': [1, 2, np.nan, 4, np.nan]})\n",
    "df_"
   ]
  },
  {
   "cell_type": "code",
   "execution_count": null,
   "id": "f6630a9e",
   "metadata": {},
   "outputs": [],
   "source": [
    "df_[\"y\"]=[2,np.nan,4,5, np.nan]\n",
    "df_"
   ]
  },
  {
   "cell_type": "markdown",
   "id": "39c7e434",
   "metadata": {},
   "source": [
    "### Dropping rows that contain missing values "
   ]
  },
  {
   "cell_type": "code",
   "execution_count": null,
   "id": "b2012401",
   "metadata": {},
   "outputs": [],
   "source": [
    "df_.dropna(subset=['x'])\n"
   ]
  },
  {
   "cell_type": "markdown",
   "id": "08c2ae46",
   "metadata": {},
   "source": [
    "### and you can fill the missing values with fillna.."
   ]
  },
  {
   "cell_type": "markdown",
   "id": "81e8140f",
   "metadata": {},
   "source": [
    "<b>  filling nas with mean"
   ]
  },
  {
   "cell_type": "code",
   "execution_count": null,
   "id": "22dbc112",
   "metadata": {
    "scrolled": true
   },
   "outputs": [],
   "source": [
    "df_.mean()"
   ]
  },
  {
   "cell_type": "code",
   "execution_count": null,
   "id": "fd28ba25",
   "metadata": {},
   "outputs": [],
   "source": [
    "df_[[\"x\"]].fillna(value=df_.x.mean())"
   ]
  },
  {
   "cell_type": "code",
   "execution_count": null,
   "id": "afec24f5",
   "metadata": {},
   "outputs": [],
   "source": [
    "df_"
   ]
  },
  {
   "cell_type": "code",
   "execution_count": null,
   "id": "56dd0c4f",
   "metadata": {
    "scrolled": true
   },
   "outputs": [],
   "source": [
    "df_ = pd.DataFrame({'x': [1, 2, np.nan, 4]})\n",
    "print('df_.fillna(value=0)\\n',df_.fillna(value=0))\n",
    "print(\"\\ndf_.fillna(method=ffill)\\n\",df_.fillna(method='ffill'))\n",
    "print(\"\\ndf_.fillna(method=bfill)\\n\",df_.fillna(method='bfill'))"
   ]
  },
  {
   "cell_type": "markdown",
   "id": "7198d670",
   "metadata": {},
   "source": [
    "## Dummy variables\n",
    "- Dummy variables are binary variables that represent the values that categorical variables hold. \n",
    "- It is an efficient representation for programming, preprocessing, analysing and ML tasks purposes."
   ]
  },
  {
   "cell_type": "markdown",
   "id": "1b744ac3",
   "metadata": {},
   "source": [
    "#### Here is an example..."
   ]
  },
  {
   "cell_type": "code",
   "execution_count": null,
   "id": "846ed101",
   "metadata": {},
   "outputs": [],
   "source": [
    "df = pd.DataFrame({'A': ['a', 'b', 'a'], 'B': ['b', 'a', 'c'],\n",
    "                   'C': [1, 2, 3]})\n",
    "df"
   ]
  },
  {
   "cell_type": "code",
   "execution_count": null,
   "id": "e62dd569",
   "metadata": {},
   "outputs": [],
   "source": [
    "pd.get_dummies(df)"
   ]
  },
  {
   "cell_type": "code",
   "execution_count": null,
   "id": "329f10e6",
   "metadata": {},
   "outputs": [],
   "source": [
    "df.apply(np.unique)"
   ]
  },
  {
   "cell_type": "markdown",
   "id": "4b82d2b0",
   "metadata": {},
   "source": [
    "### I/O operations\n",
    "- reading data directly from csv, text, Excel files, DFS\n",
    "- Pandas Data Frames are not persistent storage!\n",
    "- writing data directly to file storage."
   ]
  },
  {
   "cell_type": "code",
   "execution_count": null,
   "id": "07266886",
   "metadata": {},
   "outputs": [],
   "source": [
    "students_df"
   ]
  },
  {
   "cell_type": "code",
   "execution_count": null,
   "id": "602685a6",
   "metadata": {},
   "outputs": [],
   "source": [
    "students_df.to_csv(\"students_df.csv\", index=False)"
   ]
  },
  {
   "cell_type": "code",
   "execution_count": null,
   "id": "fda86727",
   "metadata": {
    "scrolled": true
   },
   "outputs": [],
   "source": [
    "Image(\"res/Q&A.png\")"
   ]
  },
  {
   "cell_type": "code",
   "execution_count": null,
   "id": "c270ab22",
   "metadata": {},
   "outputs": [],
   "source": [
    "pd.read_csv('students_df.csv')"
   ]
  },
  {
   "cell_type": "code",
   "execution_count": null,
   "id": "97c9e759",
   "metadata": {},
   "outputs": [],
   "source": []
  }
 ],
 "metadata": {
  "kernelspec": {
   "display_name": "Python 3 (ipykernel)",
   "language": "python",
   "name": "python3"
  },
  "language_info": {
   "codemirror_mode": {
    "name": "ipython",
    "version": 3
   },
   "file_extension": ".py",
   "mimetype": "text/x-python",
   "name": "python",
   "nbconvert_exporter": "python",
   "pygments_lexer": "ipython3",
   "version": "3.9.17"
  },
  "toc": {
   "base_numbering": 1,
   "nav_menu": {},
   "number_sections": false,
   "sideBar": true,
   "skip_h1_title": false,
   "title_cell": "Table of Contents",
   "title_sidebar": "Contents",
   "toc_cell": false,
   "toc_position": {},
   "toc_section_display": true,
   "toc_window_display": false
  }
 },
 "nbformat": 4,
 "nbformat_minor": 5
}
